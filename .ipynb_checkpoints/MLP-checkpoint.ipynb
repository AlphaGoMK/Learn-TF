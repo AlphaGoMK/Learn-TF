{
 "cells": [
  {
   "cell_type": "code",
   "execution_count": 2,
   "metadata": {},
   "outputs": [
    {
     "name": "stdout",
     "output_type": "stream",
     "text": [
      "Extracting MNIST_data/train-images-idx3-ubyte.gz\n",
      "Extracting MNIST_data/train-labels-idx1-ubyte.gz\n",
      "Extracting MNIST_data/t10k-images-idx3-ubyte.gz\n",
      "Extracting MNIST_data/t10k-labels-idx1-ubyte.gz\n"
     ]
    }
   ],
   "source": [
    "from tensorflow.examples.tutorials.mnist import input_data\n",
    "import tensorflow as tf\n",
    "mnist=input_data.read_data_sets(\"MNIST_data/\",one_hot=True)\n",
    "sess=tf.InteractiveSession()"
   ]
  },
  {
   "cell_type": "code",
   "execution_count": 3,
   "metadata": {
    "collapsed": true
   },
   "outputs": [],
   "source": [
    "in_units=784\n",
    "h1_units=300\n",
    "W1=tf.Variable(tf.truncated_normal([in_units,h1_units],stddev=0.1))\n",
    "b1=tf.Variable(tf.zeros(h1_units))\n",
    "W2=tf.Variable(tf.zeros([h1_units,10]))\n",
    "b2=tf.Variable(tf.zeros([10]))"
   ]
  },
  {
   "cell_type": "code",
   "execution_count": 69,
   "metadata": {
    "collapsed": true
   },
   "outputs": [],
   "source": [
    "x=tf.placeholder(tf.float32,[None,in_units])\n",
    "keep_prob=tf.placeholder(tf.float32)   # set as parameter\n",
    "hidden1=tf.nn.relu(tf.matmul(x,W1)+b1) # ReLu\n",
    "hidden1_drop=tf.nn.dropout(hidden1,keep_prob) # dropout after relu\n",
    "y=tf.nn.softmax(tf.matmul(hidden1_drop,W2)+b2) # softmax after FC layer, network output\n",
    "y_=tf.placeholder(tf.float32,[None,10]) # real output\n",
    "cross_entropy=tf.reduce_mean(-tf.reduce_sum(y_*tf.log(y),reduction_indices=[1])) # define loss function\n",
    "train_step=tf.train.AdagradOptimizer(0.3).minimize(cross_entropy) # define optimizer ( inclu. learning_rate and loss func. )\n",
    "                                                                  # adam for 0.001 learning_rate 0.973\n",
    "                                                                  # adagrad 0.3 learning_rate 0.979\n",
    "                                                                  # adadelta 3.0 learning_rate 0.976"
   ]
  },
  {
   "cell_type": "code",
   "execution_count": 70,
   "metadata": {
    "collapsed": true
   },
   "outputs": [],
   "source": [
    "tf.global_variables_initializer().run()\n",
    "for i in range(3000):\n",
    "    batch_xs,batch_ys=mnist.train.next_batch(100)\n",
    "    train_step.run({x: batch_xs, y_: batch_ys, keep_prob: 0.75})"
   ]
  },
  {
   "cell_type": "code",
   "execution_count": 71,
   "metadata": {},
   "outputs": [
    {
     "name": "stdout",
     "output_type": "stream",
     "text": [
      "0.979\n"
     ]
    }
   ],
   "source": [
    "correct_prediction=tf.equal(tf.argmax(y,1),tf.argmax(y_,1))\n",
    "accuracy=tf.reduce_mean(tf.cast(correct_prediction,dtype=tf.float32))\n",
    "print(accuracy.eval({x:mnist.test.images,y_:mnist.test.labels, keep_prob: 1.0}))  # .eval() equals to .run()"
   ]
  },
  {
   "cell_type": "code",
   "execution_count": null,
   "metadata": {
    "collapsed": true
   },
   "outputs": [],
   "source": []
  }
 ],
 "metadata": {
  "kernelspec": {
   "display_name": "tensorflow35",
   "language": "python",
   "name": "tensorflow35"
  },
  "language_info": {
   "codemirror_mode": {
    "name": "ipython",
    "version": 3
   },
   "file_extension": ".py",
   "mimetype": "text/x-python",
   "name": "python",
   "nbconvert_exporter": "python",
   "pygments_lexer": "ipython3",
   "version": "3.5.4"
  }
 },
 "nbformat": 4,
 "nbformat_minor": 2
}
