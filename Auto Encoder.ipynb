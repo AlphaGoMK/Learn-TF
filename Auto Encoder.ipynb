{
 "cells": [
  {
   "cell_type": "code",
   "execution_count": 1,
   "metadata": {},
   "outputs": [],
   "source": [
    "import numpy as np\n",
    "import sklearn.preprocessing as prep\n",
    "import tensorflow as tf\n",
    "from tensorflow.examples.tutorials.mnist import input_data"
   ]
  },
  {
   "cell_type": "code",
   "execution_count": 3,
   "metadata": {},
   "outputs": [],
   "source": [
    "def xavier_init(fan_in,fan_out,constant=1):\n",
    "    low=-constant*np.sqrt(6/(fan_in+fan_out))\n",
    "    high=constant*np.sqrt(6/(fan_in+fan_out))\n",
    "    return tf.random_uniform((fan_in,fan_out),minval=low,maxval=high,dtype=tf.float32)"
   ]
  },
  {
   "cell_type": "code",
   "execution_count": 4,
   "metadata": {
    "collapsed": true
   },
   "outputs": [],
   "source": [
    "class AdditiveGaussianNoiseAutoencoder(object):\n",
    "    def __init__(self,n_input,n_hidden,transfer_function=tf.nn.softplus,optimizer=tf.train.AdamOptimizer(),scale=0.1):\n",
    "        \n",
    "        # define network parameter\n",
    "        self.n_input=n_input       # input node number\n",
    "        self.n_hidden=n_hidden     # hidden node number\n",
    "        self.transfer=transfer_function     # activation function\n",
    "        self.scale=tf.placeholder(tf.float32) # 噪声系数 train and test\n",
    "        self.training_scale=scale # 噪声系数 in train\n",
    "        network_weights=self._initialize_weights() # w1,w2,b1,b2\n",
    "        self.weights=network_weights     # weights attr. contains w1,b1,w2,b2\n",
    "        self.x=tf.placeholder(tf.float32,[None,self.n_input])\n",
    "        \n",
    "        # define network structure\n",
    "        self.hidden=self.transfer(tf.add(tf.matmul(self.x+scale*tf.random_normal((n_input,)),self.weights['w1']),self.weights['b1']))\n",
    "        self.reconstruction=tf.add(tf.matmul(self.hidden,self.weights['w2']),self.weights['b2'])\n",
    "        \n",
    "        # define network loss function and optimizer\n",
    "        self.cost=0.5*tf.reduce_sum(tf.pow(tf.subtract(self.reconstruction,self.x),2))\n",
    "        self.optimizer=optimizer.minimize(self.cost)\n",
    "        \n",
    "        # initialize \n",
    "        init=tf.global_variables_initializer()\n",
    "        self.sess=tf.Session()\n",
    "        self.sess.run(init)\n",
    "        \n",
    "    def _initialize_weights(self):\n",
    "        all_weights=dict()\n",
    "        all_weights['w1']=tf.Variable(xavier_init(self.n_input,self.n_hidden))\n",
    "        all_weights['b1']=tf.Variable(tf.zeros([self.n_hidden],dtype=tf.float32))\n",
    "        all_weights['w2']=tf.Variable(tf.zeros([self.n_hidden,self.n_input],dtype=tf.float32))\n",
    "        all_weights['b2']=tf.Variable(tf.zeros([self.n_input],dtype=tf.float32))\n",
    "        return all_weights\n",
    "    def partial_fit(self,X):\n",
    "        cost,opt=self.sess.run((self.cost,self.optimizer),feed_dict={self.x: X, self.scale: self.training_scale})\n",
    "        return cost\n",
    "    def calc_total_cost(self,X):\n",
    "        return self.sess.run(self.cost,feed_dict={self.x: X, self.scale: self.training_scale})\n",
    "    def transform(self,X):\n",
    "        return self.sess.run(self.hidden, feed_dict={self.x: X, self.scale: self.training_scale})\n",
    "    def generate(self,hidden=None):\n",
    "        if hidden is None:\n",
    "            hidden=np.random.normal(size=self.weights['b1'])\n",
    "        return self.sess.run(self.reconstruction,feed_dict={self.hidden: hidden})\n",
    "    def reconstruct(self,X):\n",
    "        return self.sess.run(self.reconstruction,feed_dict={self.x: X, self.scale: self.training_scale})\n",
    "    def getWeights(self):\n",
    "        return self.sess.run(self.weights['w1'])\n",
    "    def getBiases(self):\n",
    "        return self.sess.run(self.weights['b1'])\n",
    "    "
   ]
  },
  {
   "cell_type": "code",
   "execution_count": 5,
   "metadata": {},
   "outputs": [
    {
     "name": "stdout",
     "output_type": "stream",
     "text": [
      "Extracting MNIST_data\\train-images-idx3-ubyte.gz\n",
      "Extracting MNIST_data\\train-labels-idx1-ubyte.gz\n",
      "Extracting MNIST_data\\t10k-images-idx3-ubyte.gz\n",
      "Extracting MNIST_data\\t10k-labels-idx1-ubyte.gz\n"
     ]
    }
   ],
   "source": [
    "mnist=input_data.read_data_sets('MNIST_data',one_hot=True)"
   ]
  },
  {
   "cell_type": "code",
   "execution_count": 8,
   "metadata": {
    "collapsed": true
   },
   "outputs": [],
   "source": [
    "def standard_scale(X_train,X_test):\n",
    "    preprocessor=prep.StandardScaler().fit(X_train)   # generate standard transformer according to train data\n",
    "    X_train=preprocessor.transform(X_train)   # transform to standard gaussian distribution (mean=0 std_var=1)\n",
    "    X_test=preprocessor.transform(X_test)   # transform test data\n",
    "    return X_train,X_test"
   ]
  },
  {
   "cell_type": "code",
   "execution_count": 13,
   "metadata": {
    "collapsed": true
   },
   "outputs": [],
   "source": [
    "def get_random_block_from_data(data, batch_size):\n",
    "    start_index=np.random.randint(0,len(data)-batch_size)\n",
    "    return data[start_index:(start_index+batch_size)]"
   ]
  },
  {
   "cell_type": "code",
   "execution_count": 14,
   "metadata": {
    "collapsed": true
   },
   "outputs": [],
   "source": [
    "X_train,X_test=standard_scale(mnist.train.images,mnist.test.images)\n",
    "n_samples=int(mnist.train.num_examples)\n",
    "training_epochs=20\n",
    "batch_size=128\n",
    "display_step=1"
   ]
  },
  {
   "cell_type": "code",
   "execution_count": 15,
   "metadata": {
    "collapsed": true
   },
   "outputs": [],
   "source": [
    "autoencoder=AdditiveGaussianNoiseAutoencoder(n_input=784,n_hidden=200,\n",
    "                                             transfer_function=tf.nn.softplus,\n",
    "                                            optimizer=tf.train.AdamOptimizer(learning_rate=0.001),\n",
    "                                            scale=0.01)"
   ]
  },
  {
   "cell_type": "code",
   "execution_count": 16,
   "metadata": {},
   "outputs": [
    {
     "name": "stdout",
     "output_type": "stream",
     "text": [
      "Epoch: 0001 cost= 19797.676903409\n",
      "Epoch: 0002 cost= 11487.435554545\n",
      "Epoch: 0003 cost= 10936.818574432\n",
      "Epoch: 0004 cost= 10080.980332386\n",
      "Epoch: 0005 cost= 9978.635863636\n",
      "Epoch: 0006 cost= 9895.573982955\n",
      "Epoch: 0007 cost= 8671.502488068\n",
      "Epoch: 0008 cost= 9176.069957955\n",
      "Epoch: 0009 cost= 8370.926038636\n",
      "Epoch: 0010 cost= 8631.905780114\n",
      "Epoch: 0011 cost= 8289.834907955\n",
      "Epoch: 0012 cost= 8453.981198864\n",
      "Epoch: 0013 cost= 8341.135396591\n",
      "Epoch: 0014 cost= 8063.722961932\n",
      "Epoch: 0015 cost= 8900.930341477\n",
      "Epoch: 0016 cost= 8655.025076136\n",
      "Epoch: 0017 cost= 8405.887048864\n",
      "Epoch: 0018 cost= 8082.148539773\n",
      "Epoch: 0019 cost= 8071.819731818\n",
      "Epoch: 0020 cost= 7603.761485795\n"
     ]
    }
   ],
   "source": [
    "for epoch in range(training_epochs):\n",
    "    avg_cost=0.\n",
    "    total_batch=int(n_samples/batch_size)\n",
    "    for i in range(total_batch):\n",
    "        batch_xs=get_random_block_from_data(X_train,batch_size)\n",
    "        cost=autoencoder.partial_fit(batch_xs)\n",
    "        avg_cost+=cost/n_samples*batch_size\n",
    "    \n",
    "    if epoch%display_step==0:\n",
    "        print(\"Epoch:\",'%04d'%(epoch+1),\"cost=\",\"{:.9f}\".format(avg_cost)) # format output"
   ]
  },
  {
   "cell_type": "code",
   "execution_count": 17,
   "metadata": {},
   "outputs": [
    {
     "name": "stdout",
     "output_type": "stream",
     "text": [
      "Total cost: 656282.0\n"
     ]
    }
   ],
   "source": [
    "print(\"Total cost: \"+str(autoencoder.calc_total_cost(X_test)))"
   ]
  },
  {
   "cell_type": "code",
   "execution_count": null,
   "metadata": {
    "collapsed": true
   },
   "outputs": [],
   "source": []
  }
 ],
 "metadata": {
  "kernelspec": {
   "display_name": "tensorflow35",
   "language": "python",
   "name": "tensorflow35"
  },
  "language_info": {
   "codemirror_mode": {
    "name": "ipython",
    "version": 3
   },
   "file_extension": ".py",
   "mimetype": "text/x-python",
   "name": "python",
   "nbconvert_exporter": "python",
   "pygments_lexer": "ipython3",
   "version": "3.5.4"
  }
 },
 "nbformat": 4,
 "nbformat_minor": 2
}
